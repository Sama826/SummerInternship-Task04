{
 "cells": [
  {
   "cell_type": "code",
   "execution_count": null,
   "id": "1e590350",
   "metadata": {},
   "outputs": [],
   "source": [
    "import cv2\n",
    "import numpy as np"
   ]
  },
  {
   "cell_type": "code",
   "execution_count": null,
   "id": "e694a256",
   "metadata": {},
   "outputs": [],
   "source": [
    "img1=cv2.imread(\"tor.jpg\")\n",
    "img2=cv2.imread(\"fish.jpg\")"
   ]
  },
  {
   "cell_type": "code",
   "execution_count": null,
   "id": "60166b3f",
   "metadata": {},
   "outputs": [],
   "source": [
    "print(img1.shape)\n",
    "print(img2.shape)"
   ]
  },
  {
   "cell_type": "code",
   "execution_count": null,
   "id": "27fce991",
   "metadata": {},
   "outputs": [],
   "source": [
    "img1=cv2.resize(img1,(225,194))\n",
    "img2=cv2.resize(img2,(225,194))"
   ]
  },
  {
   "cell_type": "code",
   "execution_count": 7,
   "id": "bc68f5dd",
   "metadata": {},
   "outputs": [],
   "source": [
    "h1=np.hstack([img1,img2])"
   ]
  },
  {
   "cell_type": "code",
   "execution_count": 9,
   "id": "e73bf320",
   "metadata": {},
   "outputs": [],
   "source": [
    "v1=np.vstack([img1,img2])"
   ]
  },
  {
   "cell_type": "code",
   "execution_count": null,
   "id": "1e7dd400",
   "metadata": {},
   "outputs": [],
   "source": [
    "cv2.imshow(\"collage\",h1)\n",
    "cv2.waitKey()\n",
    "cv2.destroyAllWindows()"
   ]
  },
  {
   "cell_type": "markdown",
   "id": "ad7aa2a9",
   "metadata": {},
   "source": []
  }
 ],
 "metadata": {
  "kernelspec": {
   "display_name": "Python 3",
   "language": "python",
   "name": "python3"
  },
  "language_info": {
   "codemirror_mode": {
    "name": "ipython",
    "version": 3
   },
   "file_extension": ".py",
   "mimetype": "text/x-python",
   "name": "python",
   "nbconvert_exporter": "python",
   "pygments_lexer": "ipython3",
   "version": "3.6.8"
  }
 },
 "nbformat": 4,
 "nbformat_minor": 5
}
