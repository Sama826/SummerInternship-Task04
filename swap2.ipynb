{
 "cells": [
  {
   "cell_type": "code",
   "execution_count": 1,
   "id": "e745c513",
   "metadata": {},
   "outputs": [],
   "source": [
    "import cv2"
   ]
  },
  {
   "cell_type": "code",
   "execution_count": 2,
   "id": "a505c2e9",
   "metadata": {},
   "outputs": [
    {
     "data": {
      "text/plain": [
       "(225, 225, 3)"
      ]
     },
     "execution_count": 2,
     "metadata": {},
     "output_type": "execute_result"
    }
   ],
   "source": [
    "img1=cv2.imread(\"deer.jpg\")\n",
    "img1.shape"
   ]
  },
  {
   "cell_type": "code",
   "execution_count": 3,
   "id": "8d081b6a",
   "metadata": {},
   "outputs": [
    {
     "data": {
      "text/plain": [
       "(168, 300, 3)"
      ]
     },
     "execution_count": 3,
     "metadata": {},
     "output_type": "execute_result"
    }
   ],
   "source": [
    "img2=cv2.imread(\"2d.jpg\")\n",
    "img2.shape"
   ]
  },
  {
   "cell_type": "code",
   "execution_count": 4,
   "id": "cef83cae",
   "metadata": {},
   "outputs": [],
   "source": [
    "cv2.imshow(\"deer\",img1)\n",
    "cv2.imshow(\"2d\",img2)\n",
    "cv2.waitKey()\n",
    "cv2.destroyAllWindows()"
   ]
  },
  {
   "cell_type": "code",
   "execution_count": null,
   "id": "580b78cb",
   "metadata": {},
   "outputs": [],
   "source": [
    "crop_img1=img1[54:167,47:168]\n",
    "img2[54:167,47:168]=crop_img1\n",
    "cv2.imshow(\"swap\",img2)\n",
    "cv2.waitKey()\n",
    "cv2.destroyAllWindows()"
   ]
  },
  {
   "cell_type": "code",
   "execution_count": null,
   "id": "c753267d",
   "metadata": {},
   "outputs": [],
   "source": []
  }
 ],
 "metadata": {
  "kernelspec": {
   "display_name": "Python 3",
   "language": "python",
   "name": "python3"
  },
  "language_info": {
   "codemirror_mode": {
    "name": "ipython",
    "version": 3
   },
   "file_extension": ".py",
   "mimetype": "text/x-python",
   "name": "python",
   "nbconvert_exporter": "python",
   "pygments_lexer": "ipython3",
   "version": "3.6.8"
  }
 },
 "nbformat": 4,
 "nbformat_minor": 5
}
