{
 "cells": [
  {
   "cell_type": "code",
   "execution_count": null,
   "id": "ecac390a",
   "metadata": {},
   "outputs": [],
   "source": [
    "import cv2\n",
    "import numpy as np"
   ]
  },
  {
   "cell_type": "code",
   "execution_count": null,
   "id": "42852bd2",
   "metadata": {},
   "outputs": [],
   "source": [
    "img =np.zeros((600,700,3))"
   ]
  },
  {
   "cell_type": "code",
   "execution_count": null,
   "id": "54520801",
   "metadata": {},
   "outputs": [],
   "source": [
    "cv2.circle(img,center=(200,100),radius=60,color=(222,218,153),thickness=-1)\n",
    "\n",
    "img= cv2.rectangle(img,(50,600),(0,70),(255,255,0),-1)\n",
    "\n",
    "\n",
    "img= cv2.rectangle(img,(20,600),(250,400),(255,255,0),-1)\n",
    "\n",
    "\n",
    "\n",
    "cv2.imshow(\"image\",img)\n",
    "cv2.waitKey()\n",
    "cv2.destroyAllWindows()\n"
   ]
  },
  {
   "cell_type": "code",
   "execution_count": null,
   "id": "02776245",
   "metadata": {},
   "outputs": [],
   "source": [
    "cv2.imshow(\"image\",img)\n",
    "cv2.waitKey()\n",
    "cv2.destroyAllWindows()"
   ]
  },
  {
   "cell_type": "code",
   "execution_count": null,
   "id": "7b720ce7",
   "metadata": {},
   "outputs": [],
   "source": []
  },
  {
   "cell_type": "code",
   "execution_count": null,
   "id": "ee4e6163",
   "metadata": {},
   "outputs": [],
   "source": []
  }
 ],
 "metadata": {
  "kernelspec": {
   "display_name": "Python 3",
   "language": "python",
   "name": "python3"
  },
  "language_info": {
   "codemirror_mode": {
    "name": "ipython",
    "version": 3
   },
   "file_extension": ".py",
   "mimetype": "text/x-python",
   "name": "python",
   "nbconvert_exporter": "python",
   "pygments_lexer": "ipython3",
   "version": "3.6.8"
  }
 },
 "nbformat": 4,
 "nbformat_minor": 5
}
